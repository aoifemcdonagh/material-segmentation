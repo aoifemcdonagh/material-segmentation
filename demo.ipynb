{
  "nbformat": 4,
  "nbformat_minor": 0,
  "metadata": {
    "kernelspec": {
      "display_name": "Python 2",
      "language": "python",
      "name": "python2"
    },
    "language_info": {
      "codemirror_mode": {
        "name": "ipython",
        "version": 2
      },
      "file_extension": ".py",
      "mimetype": "text/x-python",
      "name": "python",
      "nbconvert_exporter": "python",
      "pygments_lexer": "ipython2",
      "version": "2.7.6"
    },
    "colab": {
      "name": "demo.ipynb",
      "provenance": [],
      "include_colab_link": true
    }
  },
  "cells": [
    {
      "cell_type": "markdown",
      "metadata": {
        "id": "view-in-github",
        "colab_type": "text"
      },
      "source": [
        "<a href=\"https://colab.research.google.com/github/aoifemcdonagh/material-segmentation/blob/master/demo.ipynb\" target=\"_parent\"><img src=\"https://colab.research.google.com/assets/colab-badge.svg\" alt=\"Open In Colab\"/></a>"
      ]
    },
    {
      "cell_type": "markdown",
      "metadata": {
        "id": "9o054Eu-5DDG"
      },
      "source": [
        "## Step 1: Setup\r\n",
        "1. clone repo"
      ]
    },
    {
      "cell_type": "code",
      "metadata": {
        "id": "PWpHs9zU4nat"
      },
      "source": [
        "!git clone https://github.com/aoifemcdonagh/material-segmentation.git"
      ],
      "execution_count": null,
      "outputs": []
    },
    {
      "cell_type": "code",
      "metadata": {
        "id": "fAn41Omta3WI"
      },
      "source": [
        "%cd material-segmentation/"
      ],
      "execution_count": null,
      "outputs": []
    },
    {
      "cell_type": "markdown",
      "metadata": {
        "id": "fwlcpD0o1-wK"
      },
      "source": [
        "## Step 2: Install requirements\r\n",
        "Note: ignore the prompt to restart runtime"
      ]
    },
    {
      "cell_type": "code",
      "metadata": {
        "id": "POygatY7avX-"
      },
      "source": [
        "!pip install -r requirements.txt"
      ],
      "execution_count": null,
      "outputs": []
    }
  ]
}